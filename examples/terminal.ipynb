{
 "cells": [
  {
   "cell_type": "code",
   "execution_count": 63,
   "metadata": {},
   "outputs": [],
   "source": [
    "import serial\n",
    "import time\n",
    "import sys\n",
    "import numpy as np\n",
    "from matplotlib import pyplot as plt\n",
    "%matplotlib inline\n",
    "\n",
    "import struct\n",
    "\n",
    "# Change your usb name here\n",
    "ser = serial.Serial('/dev/tty.SLAB_USBtoUART', 115200, timeout=0.1)"
   ]
  },
  {
   "cell_type": "code",
   "execution_count": 54,
   "metadata": {},
   "outputs": [],
   "source": [
    "# Command sending function\n",
    "def send_cmd(btarr):\n",
    "    if len(btarr) > 10:\n",
    "        ser.write(btarr[0:10])\n",
    "    else:\n",
    "        btarr.extend(bytearray(10 - len(btarr)))\n",
    "        ser.write(btarr)"
   ]
  },
  {
   "cell_type": "code",
   "execution_count": 45,
   "metadata": {},
   "outputs": [
    {
     "name": "stdout",
     "output_type": "stream",
     "text": [
      "b'OK'\n"
     ]
    }
   ],
   "source": [
    "# Set pwm\n",
    "send_cmd(bytearray([0x01, 0x50]))\n",
    "\n",
    "string = ser.read(10)\n",
    "print(string)"
   ]
  },
  {
   "cell_type": "code",
   "execution_count": 58,
   "metadata": {},
   "outputs": [
    {
     "name": "stdout",
     "output_type": "stream",
     "text": [
      "b'LOW'\n"
     ]
    }
   ],
   "source": [
    "# Read button pin\n",
    "send_cmd(bytearray([0x02]))\n",
    "\n",
    "string = ser.read(10)\n",
    "print(string)"
   ]
  },
  {
   "cell_type": "code",
   "execution_count": 52,
   "metadata": {},
   "outputs": [],
   "source": [
    "# Read ADC value\n",
    "send_cmd(bytearray([0x03]))\n",
    "\n",
    "buf = ser.read()\n",
    "if len(buf) > 0 :\n",
    "    adc = ord(buf)"
   ]
  },
  {
   "cell_type": "code",
   "execution_count": 64,
   "metadata": {},
   "outputs": [
    {
     "data": {
      "image/png": "[encoded data removed]",
      "text/plain": [
       "<Figure size 720x360 with 1 Axes>"
      ]
     },
     "metadata": {
      "needs_background": "light"
     },
     "output_type": "display_data"
    }
   ],
   "source": [
    "# Plot ADC in realtime\n",
    "points = 500\n",
    "y = np.zeros(points)\n",
    "x = np.zeros(points)\n",
    "plt.figure(figsize=(10, 5))\n",
    "axes = plt.gca()\n",
    "axes.set_xlim([0, points])\n",
    "axes.set_ylim([0, 256])\n",
    "\n",
    "for i in range(points):\n",
    "    send_cmd(bytearray([0x03]))\n",
    "    buf = ser.read()\n",
    "    if len(buf) > 0 :\n",
    "        adc = ord(buf)\n",
    "        x[i] = i\n",
    "        y[i] = adc\n",
    "        plt.scatter(x, y)\n",
    "        time.sleep(0.02)"
   ]
  }
 ],
 "metadata": {
  "kernelspec": {
   "display_name": "Python 3",
   "language": "python",
   "name": "python3"
  },
  "language_info": {
   "codemirror_mode": {
    "name": "ipython",
    "version": 3
   },
   "file_extension": ".py",
   "mimetype": "text/x-python",
   "name": "python",
   "nbconvert_exporter": "python",
   "pygments_lexer": "ipython3",
   "version": "3.7.0"
  }
 },
 "nbformat": 4,
 "nbformat_minor": 2
}
